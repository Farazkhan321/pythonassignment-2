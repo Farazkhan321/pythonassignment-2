{
 "cells": [
  {
   "cell_type": "code",
   "execution_count": null,
   "id": "f69dfc46-ec59-4f89-8294-3f8f3491bb65",
   "metadata": {},
   "outputs": [],
   "source": [
    "Python\n",
    "Assignment-2"
   ]
  },
  {
   "cell_type": "code",
   "execution_count": null,
   "id": "b60712dd-a88f-423e-81a0-4963beef8662",
   "metadata": {},
   "outputs": [],
   "source": [
    "Q1)\n",
    "\n",
    "There are two types of comments:\n",
    "\n",
    "1)Single-line comments: These are like short notes on one line. They start with a # symbol. For example:\n",
    "# This is a comment explaining something\n",
    "x = 10  # This is another comment about the number\n",
    "\n",
    "2)Multi-line comments (docstrings): These are like longer notes that can span multiple lines. \n",
    "They use triple quotes \"\"\" at the beginning and end. For example:\"\"\"\n",
    "\"\"\"This is a longer comment that explains how something works.\n",
    "It can go on for multiple lines and is often used for functions.\"\"\"\n",
    "\n",
    "def my_function():\n",
    "    \n",
    "   \"\"\" This explains what the function does, how to use it, and more.\"\"\"\n",
    "    \n",
    "    # The actual code of the function goes here"
   ]
  },
  {
   "cell_type": "code",
   "execution_count": null,
   "id": "38c1b1e4-182d-4cfe-aea4-28257dd54dc5",
   "metadata": {},
   "outputs": [],
   "source": [
    "Q2)\n",
    "\n",
    "Variables serve as containers used for storing and managing data in code. \n",
    "These data can encompass numbers, text, lists, and various other types. \n",
    "By assigning names to these data, variables enable easy referencing within your code. \n",
    "\n",
    "Here's how you declare (create) and assign (put a value into) variables\n",
    "\n",
    "# Declaring and assigning a variable\n",
    "age = 26  # Here, \"age\" is the variable name, and 26 is the value assigned to it\n",
    "\n",
    "name = \"faraaz\"  # Here, \"name\" is the variable name, and \"faraaz\" is the value assigned to it\n",
    "\n",
    "temperature = 98.6  # Here, \"temperature\" is the variable name, and 98.6 is the value assigned to it\n",
    "\n",
    "In the examples above, we're declaring three variables: age, name, and temperature. We assign values to them using the = sign.\n",
    "The value on the right side of the = is stored in the variable on the left side."
   ]
  },
  {
   "cell_type": "code",
   "execution_count": null,
   "id": "08593347-2c78-4807-bfd5-a81561e0e422",
   "metadata": {},
   "outputs": [],
   "source": [
    "Q3)\n",
    "\n",
    "Imagine you have a number written as a word, like \"42.\" \n",
    "If you want to use it as a real number for calculations, you can convert it into the number type using the int() function. \n",
    "Or if you want to use it with decimal points, you can convert it into the decimal type using the float() function.\n",
    "\n",
    "Likewise, if you have a number and you want to treat it as text, you can convert it into a word using the str() function.\n",
    "\n",
    "Also, if you have a bunch of numbers or words, you might want to change them into a list or a group. \n",
    "That's when you can use functions like list() or tuple().\n",
    "\n",
    "It's like changing clothes for different occasions – you change your outfit based on what you're going to do. \n",
    "Similarly, you change the data type based on what you want to do with the information."
   ]
  },
  {
   "cell_type": "code",
   "execution_count": null,
   "id": "d30e16d4-94b3-48fb-8b8a-789dd670ff74",
   "metadata": {},
   "outputs": [],
   "source": [
    "Q4)\n",
    "\n",
    "1)Write the Python Script:\n",
    "Using a text editor or an Integrated Development Environment (IDE), create a new file with a .py extension. \n",
    "Write your Python code in this file. \n",
    "For example, let's say you want to create a script that prints \"Hello, World!\" to the console. \n",
    "Your script could look like this:\n",
    "    print(\"Hello, World!\")\n",
    "2)Save the Script:\n",
    "Save the file with a .py extension. For example, you can save it as hello.py.\n",
    "3)Open a Command Line Interface:\n",
    "4)Navigate to the Script's Directory:\n",
    "Use the cd command to navigate to the directory where your Python script is located. \n",
    "For example, if your script is on your desktop and your username is \"user,\" you might use:\n",
    "    cd /Users/user/Desktop\n",
    "5)Execute the Script:\n",
    "To execute the Python script, you use the python command followed by the name of the script file. \n",
    "Assuming your script is named hello.py, you'd enter:\n",
    "python hello.py\n",
    "6)View the Output:\n",
    "After executing the script, you should see the output of your script in the command line interface. \n",
    "For the \"Hello, World!\" example, you would see:\n",
    "    Hello, World!\n",
    "\n",
    "That's it! You've successfully written and executed a Python script from the command line. "
   ]
  },
  {
   "cell_type": "code",
   "execution_count": 2,
   "id": "bc77dfc2-ee1d-4391-9b99-2ba1b42e0fb8",
   "metadata": {},
   "outputs": [
    {
     "name": "stdout",
     "output_type": "stream",
     "text": [
      "[2, 3]\n"
     ]
    }
   ],
   "source": [
    "# Q5)\n",
    "\n",
    "my_list = [1, 2, 3, 4, 5]\n",
    "sub_list = my_list[1:3]  # Slice from index 1 (inclusive) to index 3 (exclusive)\n",
    "print(sub_list)"
   ]
  },
  {
   "cell_type": "code",
   "execution_count": null,
   "id": "c2e086a5-ccb7-4754-87df-fb551ef9aed9",
   "metadata": {},
   "outputs": [],
   "source": [
    "Q6)\n",
    "\n",
    "in mathematics complex number is nothing but the addition of real part and imaginary part.\n",
    "in python we can represent complex number like this \n",
    "# Creating complex numbers\n",
    "z1 = 3 + 2j  # 3 is the real part, 2 is the imaginary part\n",
    "z2 = -1.5 - 0.5j  # -1.5 is the real part, -0.5 is the imaginary part"
   ]
  },
  {
   "cell_type": "code",
   "execution_count": null,
   "id": "112f80d7-dffb-4b3f-af62-ee6240e862c2",
   "metadata": {},
   "outputs": [],
   "source": [
    "Q7)\n",
    "\n",
    "declare a variable named age and assign the value 25 to it using the following syntax.\n",
    "age=25\n",
    "\n",
    "This line of code declares a variable named age and assigns the value 25 to it. \n",
    "After this line, you can use the variable age to access and manipulate the value 25 throughout your code."
   ]
  },
  {
   "cell_type": "code",
   "execution_count": 5,
   "id": "a4551c80-e62f-4a37-b4b5-09de344da0f6",
   "metadata": {},
   "outputs": [
    {
     "data": {
      "text/plain": [
       "float"
      ]
     },
     "execution_count": 5,
     "metadata": {},
     "output_type": "execute_result"
    }
   ],
   "source": [
    "# Q8)\n",
    "\n",
    "price=9.99\n",
    "type(price) # The data type that the variable price belongs to in this case is a floating-point number "
   ]
  },
  {
   "cell_type": "code",
   "execution_count": 6,
   "id": "f07866c4-e5b1-48dd-9b81-b1e25012b9f7",
   "metadata": {},
   "outputs": [
    {
     "name": "stdout",
     "output_type": "stream",
     "text": [
      " Faraaz khan \n"
     ]
    }
   ],
   "source": [
    "# Q9)\n",
    "\n",
    "name= \" Faraaz khan \"\n",
    "print(name)"
   ]
  },
  {
   "cell_type": "code",
   "execution_count": 19,
   "id": "a052bfdc-e057-4d4e-a111-574f652d2ce8",
   "metadata": {},
   "outputs": [
    {
     "name": "stdout",
     "output_type": "stream",
     "text": [
      " World! \n"
     ]
    }
   ],
   "source": [
    "# Q10)\n",
    "\n",
    "given_string = \" Hello, World! \"\n",
    "sub_string = given_string[7::]\n",
    "print(sub_string)"
   ]
  },
  {
   "cell_type": "code",
   "execution_count": null,
   "id": "2c72b658-b0cb-4b4a-bb51-c0e28599cd12",
   "metadata": {},
   "outputs": [],
   "source": [
    "Q11)\n",
    "\n",
    "is_student = True  # Change this to False if you're not a student"
   ]
  },
  {
   "cell_type": "code",
   "execution_count": null,
   "id": "5fde2e73-2121-48f3-befe-d1a5456fcefe",
   "metadata": {},
   "outputs": [],
   "source": []
  }
 ],
 "metadata": {
  "kernelspec": {
   "display_name": "Python 3 (ipykernel)",
   "language": "python",
   "name": "python3"
  },
  "language_info": {
   "codemirror_mode": {
    "name": "ipython",
    "version": 3
   },
   "file_extension": ".py",
   "mimetype": "text/x-python",
   "name": "python",
   "nbconvert_exporter": "python",
   "pygments_lexer": "ipython3",
   "version": "3.10.8"
  }
 },
 "nbformat": 4,
 "nbformat_minor": 5
}
